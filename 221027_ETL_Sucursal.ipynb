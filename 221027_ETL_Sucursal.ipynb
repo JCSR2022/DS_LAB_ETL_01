{
 "cells": [
  {
   "cell_type": "code",
   "execution_count": 1,
   "metadata": {},
   "outputs": [
    {
     "name": "stdout",
     "output_type": "stream",
     "text": [
      "Carga de tabla 'sucursal' a MySQL completa\n"
     ]
    }
   ],
   "source": [
    "#Procedimiento realizado a la tabla sucursal \n",
    "#   1.Se borran los datos repetidos si existen y los valores null\n",
    "#   2.Se modifica el id de la tabla para lograr que sea un int:\n",
    "#       2.1. Se verifica los valores maximos esperados\n",
    "#       2.2. Se crea el nuevo Id a partir de los valores del Id existente\n",
    "#       (Nota el nuevo id consta de los siguientes digitos XXYYZZZZ:\n",
    "#           XX-comercioId, YY-banderaId, ZZZZ-sucursalId  )\n",
    "\n",
    "\n",
    "#Se carga las librerias a usar\n",
    "import pandas as pd\n",
    "import xlrd\n",
    "\n",
    "#Se carga la tabla desde el archivo .csv\n",
    "df_sucursal = pd.read_csv('Datasets\\sucursal.csv',sep = ',', decimal = '.',encoding='latin1')\n",
    "\n",
    "# Se borran valores repetidos\n",
    "df_sucursal.drop_duplicates(inplace=True)\n",
    "\n",
    "#Se borran valores nulos\n",
    "df_sucursal.dropna(inplace=True)\n",
    "\n",
    "#Se convierte el codigo string en una lista con \n",
    "# los subcodigos (comercioId-banderaId-sucursalId.) \n",
    "Ids =[]\n",
    "for id_Tex in df_sucursal[\"id\"]:\n",
    "    Ids.append(id_Tex.split(\"-\"))   \n",
    "\n",
    "# Se verifica el maximo valor para cada uno de los \n",
    "#   sub codigos y si existen incongruencia como letras\n",
    "for i in range(3):\n",
    "    error=0\n",
    "    max = 0\n",
    "    for Idcompuesta in Ids:\n",
    "        try:\n",
    "            if int(Idcompuesta[i]) > max:\n",
    "                max = int(Idcompuesta[i])\n",
    "        except ValueError:\n",
    "            error = 1\n",
    "    #print(\"Verificacion de posibles errores en subcodigos:\",i, max, error)\n",
    "\n",
    "\n",
    "#Se procede a crear la nueva columna con los nuevos Id_Sucursal\n",
    "Id_Sucursal =[]\n",
    "for Idcompuesta in Ids:\n",
    "    num = int(Idcompuesta[0])*10000*100  +  int(Idcompuesta[1])*10000 + int(Idcompuesta[2])\n",
    "    Id_Sucursal.append(num)\n",
    "\n",
    "#Se inserta la nueva columna y se borra la anterior\n",
    "df_sucursal.insert(0,\"Id_Sucursal\", Id_Sucursal, allow_duplicates=False)\n",
    "df_sucursal.drop(\"id\",axis=1,inplace=True)\n",
    "\n",
    "\n",
    "#Se exporta la base de datos a MySQL\n",
    "import sqlalchemy as db\n",
    "database_username='root'            # Nombre de cliente en MySQL Workbrench\n",
    "database_password='JCSR.MySQL123'   # Contraseña de MySQL Workbrench\n",
    "database_ip='localhost'\n",
    "database_name='ETL_Lab01'           # Nombre de Base de datos a donde nos conectaremos (se debio crear primero en Mysql)\n",
    "database_conection = db.create_engine(f'mysql+pymysql://{database_username}:{database_password}@{database_ip}/{database_name}',\n",
    "                                    encoding='latin1')\n",
    "coneccion=database_conection.connect()\n",
    "df_sucursal.to_sql('sucursal',coneccion, index=False)\n",
    "print(\"Carga de tabla 'sucursal' a MySQL completa\")\n",
    "\n",
    "\n",
    "import pymysql\n",
    "conexion = pymysql.connect(\n",
    "   host = 'localhost',\n",
    "   user = 'root',\n",
    "   passwd='JCSR.MySQL123',\n",
    "   db='ETL_Lab01'           #LA base de datos se debio crear primero en Mysql\n",
    ")\n",
    "cursor = conexion.cursor()\n",
    "try:\n",
    "    #Se borra la base de datos si existe para cargarla nuevamente\n",
    "    cursor.execute(\"alter table sucursal add primary key (Id_sucursal)\")\n",
    "finally:\n",
    "    conexion.close()\n"
   ]
  }
 ],
 "metadata": {
  "kernelspec": {
   "display_name": "Python 3.9.8 64-bit",
   "language": "python",
   "name": "python3"
  },
  "language_info": {
   "codemirror_mode": {
    "name": "ipython",
    "version": 3
   },
   "file_extension": ".py",
   "mimetype": "text/x-python",
   "name": "python",
   "nbconvert_exporter": "python",
   "pygments_lexer": "ipython3",
   "version": "3.9.8"
  },
  "orig_nbformat": 4,
  "vscode": {
   "interpreter": {
    "hash": "78a5f5e9430e63759269e8e709c4002b1ad533978ca32d2fcf985e534411cec9"
   }
  }
 },
 "nbformat": 4,
 "nbformat_minor": 2
}
