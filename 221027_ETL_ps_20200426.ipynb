{
 "cells": [
  {
   "cell_type": "code",
   "execution_count": 2,
   "metadata": {},
   "outputs": [
    {
     "name": "stdout",
     "output_type": "stream",
     "text": [
      "Carga de tabla 'ps_20200426' a MySQL completa\n"
     ]
    }
   ],
   "source": [
    "#Procedimiento realizado a la tabla precios_semanas_20200419_20200426.xlsx\n",
    "#  especificamente precios_20200426\n",
    "#   1.Se borran los datos repetidos si existen y los valores null\n",
    "\n",
    "import pandas as pd\n",
    "import xlrd\n",
    "df_ps_20200426 = pd.read_excel('Datasets\\precios_semanas_20200419_20200426.xlsx ', 'precios_20200426_20200426')\n",
    "\n",
    "#-------------Tratamiento General\n",
    "# Se borran valores repetidos\n",
    "df_ps_20200426.drop_duplicates(inplace=True)\n",
    "\n",
    "#Se borran valores nulos\n",
    "df_ps_20200426.dropna(inplace=True)\n",
    "\n",
    "#-----------Manejo de los Id del columna sucursal_id\n",
    "#Se convierte el codigo string en una lista con \n",
    "# los subcodigos (comercioId-banderaId-sucursalId.) \n",
    "Ids =[]\n",
    "for id_Tex in df_ps_20200426[\"sucursal_id\"]:\n",
    "    Ids.append(id_Tex.split(\"-\")) \n",
    "    \n",
    "#Se procede a crear la nueva columna con los nuevos Id_Sucursal\n",
    "Id_Sucursal =[]\n",
    "for Idcompuesta in Ids:\n",
    "    num = int(Idcompuesta[0])*10000*100  +  int(Idcompuesta[1])*10000 + int(Idcompuesta[2])\n",
    "    Id_Sucursal.append(num)\n",
    "    \n",
    "#Se inserta la nueva columna y se borra la anterior\n",
    "df_ps_20200426.insert(0,\"Id_Sucursal\", Id_Sucursal, allow_duplicates=False)\n",
    "df_ps_20200426.drop(\"sucursal_id\",axis=1,inplace=True)\n",
    "\n",
    "#------------Manejo de los Id del columna producto_id\n",
    "#Se agrega la columna ID_producto con valores de 'producto_id'\n",
    "df_ps_20200426.insert(loc = 0 , column = \"Id_producto\", value = df_ps_20200426['producto_id'])\n",
    "\n",
    "#Se elimina la columna producto_id\n",
    "df_ps_20200426.drop([\"producto_id\"], axis=1,inplace=True)\n",
    "\n",
    "#Se exporta la base de datos a MySQL\n",
    "import sqlalchemy as db\n",
    "database_username='root'            # Nombre de cliente en MySQL Workbrench\n",
    "database_password='JCSR.MySQL123'   # Contraseña de MySQL Workbrench\n",
    "database_ip='localhost'\n",
    "database_name='ETL_Lab01'           # Nombre de Base de datos a donde nos conectaremos (se debio crear primero en Mysql)\n",
    "database_conection = db.create_engine(f'mysql+pymysql://{database_username}:{database_password}@{database_ip}/{database_name}',\n",
    "                                    encoding='latin1')\n",
    "coneccion=database_conection.connect()\n",
    "df_ps_20200426.to_sql('ps_20200426',coneccion, index=False)\n",
    "\n",
    "#Creacion de conexion con Mysql \n",
    "import pymysql\n",
    "conexion = pymysql.connect(\n",
    "   host = 'localhost',\n",
    "   user = 'root',\n",
    "   passwd='JCSR.MySQL123',\n",
    "   db='ETL_Lab01'           #LA base de datos se debio crear primero en Mysql\n",
    ")\n",
    "cursor = conexion.cursor()\n",
    "try:\n",
    "    #Se crean las relaciones\n",
    "    cursor.execute(\"SET FOREIGN_KEY_CHECKS=0;\")\n",
    "    cursor.execute(\"alter table ps_20200426 add foreign key (Id_Sucursal) references sucursal(Id_Sucursal);\")\n",
    "    cursor.execute(\"alter table ps_20200426 add foreign key (Id_producto) references producto(Id_producto);\")\n",
    "    cursor.execute(\"SET FOREIGN_KEY_CHECKS=1;\")\n",
    "finally:\n",
    "    conexion.close()\n",
    "print(\"Carga de tabla 'ps_20200426' a MySQL completa\")"
   ]
  },
  {
   "cell_type": "code",
   "execution_count": 9,
   "metadata": {},
   "outputs": [],
   "source": [
    "#------------Manejo de los Id del columna producto_id\n",
    "\n",
    "#Falta solucionar un tema de formato no es complejo pero hay que rev \n",
    "# desde la tabla producto y todas las otras\n",
    "\n",
    "#Se verifica el producto_id creando lista para la columna con valores Id \n",
    "# que se puedan convertir en int \n",
    "id_producto =[]\n",
    "for i in range(len(df_ps_20200426)):\n",
    "    try:\n",
    "        id_producto.append(int(df_ps_20200426.iloc[i,2]))\n",
    "    except ValueError:\n",
    "        id_producto.append(None)\n",
    "        \n",
    "#Se agrega la columna ID_producto con valores de id int\n",
    "df_ps_20200426.insert(loc = 0 , column = \"Id_producto\", value = id_producto)\n",
    "\n",
    "#Se guardan valores con problemas, con mas tiempo se pueden mejorar e integrar a la tabla\n",
    "df_ps_20200426_erroresId = df_ps_20200426[df_ps_20200426[\"Id_producto\"].isnull()].drop([\"Id_producto\"], axis=1)\n",
    "\n",
    "#Se borran valores nulos o con problemas\n",
    "df_ps_20200426.dropna(subset=\"Id_producto\",inplace=True)\n",
    "\n",
    "#Se elimina la columna producto_id\n",
    "df_ps_20200426.drop([\"producto_id\"], axis=1,inplace=True)"
   ]
  }
 ],
 "metadata": {
  "kernelspec": {
   "display_name": "Python 3.9.8 64-bit",
   "language": "python",
   "name": "python3"
  },
  "language_info": {
   "codemirror_mode": {
    "name": "ipython",
    "version": 3
   },
   "file_extension": ".py",
   "mimetype": "text/x-python",
   "name": "python",
   "nbconvert_exporter": "python",
   "pygments_lexer": "ipython3",
   "version": "3.9.8"
  },
  "orig_nbformat": 4,
  "vscode": {
   "interpreter": {
    "hash": "78a5f5e9430e63759269e8e709c4002b1ad533978ca32d2fcf985e534411cec9"
   }
  }
 },
 "nbformat": 4,
 "nbformat_minor": 2
}
