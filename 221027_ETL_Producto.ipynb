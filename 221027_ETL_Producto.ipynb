{
 "cells": [
  {
   "cell_type": "code",
   "execution_count": 2,
   "metadata": {},
   "outputs": [
    {
     "name": "stdout",
     "output_type": "stream",
     "text": [
      "Carga de tabla 'producto' a MySQL completa\n"
     ]
    }
   ],
   "source": [
    "#Procedimiento realizado a la tabla producto\n",
    "#   1.Se borran los datos repetidos si existen y los valores null\n",
    "#   2.Se modifica el id de la tabla para lograr que sea un int\n",
    "\n",
    "#Se carga las librerias a usar\n",
    "import pandas as pd\n",
    "\n",
    "#Se carga la tabla desde el archivo\n",
    "df_producto = pd.read_parquet(\"Datasets\\producto.parquet\")\n",
    "\n",
    "# Se borran valores repetidos\n",
    "df_producto.drop_duplicates(inplace=True)\n",
    "\n",
    "#Se borran valores nulos pero sin tomar en cuenta categorias\n",
    "df_producto.dropna(subset=['id','marca','nombre','presentacion'],inplace=True)\n",
    "#print(df_producto.info())\n",
    "\n",
    "#Se verifica el id  creando lista para la columna con valores Id \n",
    "# que se puedan convertir en int \n",
    "id_producto =[]\n",
    "for i in range(len(df_producto['id'])):\n",
    "    try:\n",
    "        id_producto.append(int(df_producto.iloc[i,0]))\n",
    "    except ValueError:\n",
    "        id_producto.append(None)\n",
    "\n",
    "#Se agrega la columna ID_producto con valores de id int\n",
    "df_producto.insert(loc = 0 , column = \"Id_producto\", value = id_producto)\n",
    "\n",
    "#Se guardan valores con problemas, con mas tiempo se pueden mejorar e integrar a la tabla\n",
    "df_erroresId = df_producto[df_producto[\"Id_producto\"].isnull()].drop([\"Id_producto\"], axis=1)\n",
    "\n",
    "#Se borran valores nulos\n",
    "df_producto.dropna(subset=\"Id_producto\",inplace=True)\n",
    "\n",
    "#Se elimina la columna Id\n",
    "df_producto.drop([\"id\"], axis=1,inplace=True)\n",
    "\n",
    "\n",
    "\n",
    "#Se exporta la base de datos a MySQL\n",
    "import sqlalchemy as db\n",
    "database_username='root'            # Nombre de cliente en MySQL Workbrench\n",
    "database_password='JCSR.MySQL123'   # Contraseña de MySQL Workbrench\n",
    "database_ip='localhost'\n",
    "database_name='ETL_Lab01'           # Nombre de Base de datos a donde nos conectaremos (se debio crear primero en Mysql)\n",
    "database_conection = db.create_engine(f'mysql+pymysql://{database_username}:{database_password}@{database_ip}/{database_name}',\n",
    "                                    encoding='latin1')\n",
    "coneccion=database_conection.connect()\n",
    "df_producto.to_sql('producto',coneccion, index=False)\n",
    "\n",
    "import pymysql\n",
    "conexion = pymysql.connect(\n",
    "   host = 'localhost',\n",
    "   user = 'root',\n",
    "   passwd='JCSR.MySQL123',\n",
    "   db='ETL_Lab01'           #LA base de datos se debio crear primero en Mysql\n",
    ")\n",
    "cursor = conexion.cursor()\n",
    "try:\n",
    "    #Se borra la base de datos si existe para cargarla nuevamente\n",
    "    cursor.execute(\"alter table producto add primary key (Id_producto)\")\n",
    "finally:\n",
    "    conexion.close()\n",
    "print(\"Carga de tabla 'producto' a MySQL completa\")"
   ]
  }
 ],
 "metadata": {
  "kernelspec": {
   "display_name": "Python 3.9.8 64-bit",
   "language": "python",
   "name": "python3"
  },
  "language_info": {
   "codemirror_mode": {
    "name": "ipython",
    "version": 3
   },
   "file_extension": ".py",
   "mimetype": "text/x-python",
   "name": "python",
   "nbconvert_exporter": "python",
   "pygments_lexer": "ipython3",
   "version": "3.9.8"
  },
  "orig_nbformat": 4,
  "vscode": {
   "interpreter": {
    "hash": "78a5f5e9430e63759269e8e709c4002b1ad533978ca32d2fcf985e534411cec9"
   }
  }
 },
 "nbformat": 4,
 "nbformat_minor": 2
}
