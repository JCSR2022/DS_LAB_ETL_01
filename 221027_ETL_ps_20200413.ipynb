{
 "cells": [
  {
   "cell_type": "code",
   "execution_count": 1,
   "metadata": {},
   "outputs": [
    {
     "name": "stdout",
     "output_type": "stream",
     "text": [
      "Carga de tabla 'ps_20200413' a MySQL completa\n"
     ]
    }
   ],
   "source": [
    "#Procedimiento realizado a la tabla precios_semana_20200413.csv\n",
    "#   1.Se borran los datos repetidos si existen y los valores null\n",
    "\n",
    "import pandas as pd\n",
    "\n",
    "df_ps_20200413 = pd.read_csv('Datasets\\precios_semana_20200413.csv', sep = ',', decimal = '.',encoding='utf-16')\n",
    "\n",
    "#-------------Tratamiento General\n",
    "# Se borran valores repetidos\n",
    "df_ps_20200413.drop_duplicates(inplace=True)\n",
    "\n",
    "#Se borran valores nulos\n",
    "df_ps_20200413.dropna(inplace=True)\n",
    "\n",
    "\n",
    "#-----------Manejo de los Id del columna sucursal_id\n",
    "#Se convierte el codigo string en una lista con \n",
    "# los subcodigos (comercioId-banderaId-sucursalId.) \n",
    "Ids =[]\n",
    "for id_Tex in df_ps_20200413[\"sucursal_id\"]:\n",
    "    Ids.append(id_Tex.split(\"-\")) \n",
    "    \n",
    "#Se procede a crear la nueva columna con los nuevos Id_Sucursal\n",
    "Id_Sucursal =[]\n",
    "for Idcompuesta in Ids:\n",
    "    num = int(Idcompuesta[0])*10000*100  +  int(Idcompuesta[1])*10000 + int(Idcompuesta[2])\n",
    "    Id_Sucursal.append(num)\n",
    "    \n",
    "#Se inserta la nueva columna y se borra la anterior\n",
    "df_ps_20200413.insert(0,\"Id_Sucursal\", Id_Sucursal, allow_duplicates=False)\n",
    "df_ps_20200413.drop(\"sucursal_id\",axis=1,inplace=True)\n",
    "\n",
    "\n",
    "#------------Manejo de los Id del columna producto_id\n",
    "#Se verifica el producto_id creando lista para la columna con valores Id \n",
    "# que se puedan convertir en int \n",
    "id_producto =[]\n",
    "for i in range(len(df_ps_20200413)):\n",
    "    try:\n",
    "        id_producto.append(int(df_ps_20200413.iloc[i,2]))\n",
    "    except ValueError:\n",
    "        id_producto.append(None)\n",
    "        \n",
    "#Se agrega la columna ID_producto con valores de id int\n",
    "df_ps_20200413.insert(loc = 0 , column = \"Id_producto\", value = id_producto)\n",
    "\n",
    "#Se guardan valores con problemas, con mas tiempo se pueden mejorar e integrar a la tabla\n",
    "df_ps_20200413_erroresId = df_ps_20200413[df_ps_20200413[\"Id_producto\"].isnull()].drop([\"Id_producto\"], axis=1)\n",
    "\n",
    "#Se borran valores nulos o con problemas\n",
    "df_ps_20200413.dropna(subset=\"Id_producto\",inplace=True)\n",
    "\n",
    "#Se elimina la columna producto_id\n",
    "df_ps_20200413.drop([\"producto_id\"], axis=1,inplace=True)\n",
    "\n",
    "#Se exporta la base de datos a MySQL\n",
    "import sqlalchemy as db\n",
    "database_username='root'            # Nombre de cliente en MySQL Workbrench\n",
    "database_password='JCSR.MySQL123'   # Contraseña de MySQL Workbrench\n",
    "database_ip='localhost'\n",
    "database_name='ETL_Lab01'           # Nombre de Base de datos a donde nos conectaremos (se debio crear primero en Mysql)\n",
    "database_conection = db.create_engine(f'mysql+pymysql://{database_username}:{database_password}@{database_ip}/{database_name}',\n",
    "                                    encoding='latin1')\n",
    "coneccion=database_conection.connect()\n",
    "df_ps_20200413.to_sql('ps_20200413',coneccion, index=False)\n",
    "\n",
    "\n",
    "\n",
    "#Creacion de conexion con Mysql \n",
    "import pymysql\n",
    "conexion = pymysql.connect(\n",
    "   host = 'localhost',\n",
    "   user = 'root',\n",
    "   passwd='JCSR.MySQL123',\n",
    "   db='ETL_Lab01'           #LA base de datos se debio crear primero en Mysql\n",
    ")\n",
    "cursor = conexion.cursor()\n",
    "try:\n",
    "    #Se borra la base de datos si existe para cargarla nuevamente\n",
    "    cursor.execute(\"SET FOREIGN_KEY_CHECKS=0;\")\n",
    "    cursor.execute(\"alter table ps_20200413 add foreign key (Id_Sucursal) references sucursal(Id_Sucursal);\")\n",
    "    cursor.execute(\"SET FOREIGN_KEY_CHECKS=1;\")\n",
    "    cursor.execute(\"alter table ps_20200413 add foreign key (Id_producto) references producto(Id_producto);\")\n",
    "finally:\n",
    "    conexion.close()\n",
    "print(\"Carga de tabla 'ps_20200413' a MySQL completa\")"
   ]
  },
  {
   "cell_type": "markdown",
   "metadata": {},
   "source": [
    "df['sucursal_id'] = df['sucursal_id'].apply(lambda x: x.split(' ')[0])"
   ]
  },
  {
   "cell_type": "markdown",
   "metadata": {},
   "source": [
    "https://github.com/CodeKova/Data_Engineering-Proyecto_Individual-Henry"
   ]
  }
 ],
 "metadata": {
  "kernelspec": {
   "display_name": "Python 3.9.8 64-bit",
   "language": "python",
   "name": "python3"
  },
  "language_info": {
   "codemirror_mode": {
    "name": "ipython",
    "version": 3
   },
   "file_extension": ".py",
   "mimetype": "text/x-python",
   "name": "python",
   "nbconvert_exporter": "python",
   "pygments_lexer": "ipython3",
   "version": "3.9.8"
  },
  "orig_nbformat": 4,
  "vscode": {
   "interpreter": {
    "hash": "78a5f5e9430e63759269e8e709c4002b1ad533978ca32d2fcf985e534411cec9"
   }
  }
 },
 "nbformat": 4,
 "nbformat_minor": 2
}
